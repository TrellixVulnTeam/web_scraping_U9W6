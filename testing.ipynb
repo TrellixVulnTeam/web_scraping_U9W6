{
 "cells": [
  {
   "cell_type": "markdown",
   "id": "607170f1",
   "metadata": {},
   "source": [
    "# Chapter 2 Testing"
   ]
  },
  {
   "cell_type": "code",
   "execution_count": 1,
   "id": "be553363",
   "metadata": {},
   "outputs": [
    {
     "name": "stdout",
     "output_type": "stream",
     "text": [
      "Requirement already satisfied: bs4 in c:\\users\\ayebatariwalateyekor\\documents\\github\\web_scraping\\scrapingenv\\lib\\site-packages (0.0.1)\n",
      "Requirement already satisfied: beautifulsoup4 in c:\\users\\ayebatariwalateyekor\\documents\\github\\web_scraping\\scrapingenv\\lib\\site-packages (from bs4) (4.11.1)\n",
      "Requirement already satisfied: soupsieve>1.2 in c:\\users\\ayebatariwalateyekor\\documents\\github\\web_scraping\\scrapingenv\\lib\\site-packages (from beautifulsoup4->bs4) (2.3.2.post1)\n",
      "\n",
      "[notice] A new release of pip available: 22.1.2 -> 22.2.2\n",
      "[notice] To update, run: python.exe -m pip install --upgrade pip\n"
     ]
    }
   ],
   "source": [
    "!pip install bs4\n",
    "from urllib.request import urlopen\n",
    "from bs4 import BeautifulSoup"
   ]
  },
  {
   "cell_type": "code",
   "execution_count": 2,
   "id": "bff14043",
   "metadata": {},
   "outputs": [],
   "source": [
    "#find_all(tag, attributes, recursive, text, limit, keywords)\n",
    "#find(tag, attributes, recursive, text, keywords)\n"
   ]
  },
  {
   "cell_type": "markdown",
   "id": "adf8dc12",
   "metadata": {},
   "source": [
    "The text argument is unusual in that it matches based on the text content of the tags,\n",
    "rather than properties of the tags themselves. For instance, if you want to find the\n",
    "number of times “the prince” is surrounded by tags on the example page, you could\n",
    "replace your .find_all() function in the previous example with the following lines:"
   ]
  },
  {
   "cell_type": "code",
   "execution_count": 6,
   "id": "1d1891de",
   "metadata": {},
   "outputs": [],
   "source": [
    "html = urlopen(\"http://www.pythonscraping.com/pages/page1.html\")\n",
    "bs = BeautifulSoup(html.read(), 'html.parser')"
   ]
  },
  {
   "cell_type": "code",
   "execution_count": 8,
   "id": "6b97ebc7",
   "metadata": {},
   "outputs": [],
   "source": [
    "from urllib.request import urlopen\n",
    "from bs4 import BeautifulSoup\n",
    "html = urlopen('http://www.pythonscraping.com/pages/page1.html')\n",
    "bs = BeautifulSoup(html.read(), 'html.parser')"
   ]
  },
  {
   "cell_type": "code",
   "execution_count": 9,
   "id": "12ce8ae3",
   "metadata": {},
   "outputs": [
    {
     "name": "stdout",
     "output_type": "stream",
     "text": [
      "0\n"
     ]
    }
   ],
   "source": [
    "nameList = bs.find_all(text='the prince')\n",
    "print(len(nameList))"
   ]
  },
  {
   "cell_type": "code",
   "execution_count": null,
   "id": "25bd2b79",
   "metadata": {},
   "outputs": [],
   "source": []
  }
 ],
 "metadata": {
  "kernelspec": {
   "display_name": "Python 3 (ipykernel)",
   "language": "python",
   "name": "python3"
  },
  "language_info": {
   "codemirror_mode": {
    "name": "ipython",
    "version": 3
   },
   "file_extension": ".py",
   "mimetype": "text/x-python",
   "name": "python",
   "nbconvert_exporter": "python",
   "pygments_lexer": "ipython3",
   "version": "3.10.5"
  }
 },
 "nbformat": 4,
 "nbformat_minor": 5
}
